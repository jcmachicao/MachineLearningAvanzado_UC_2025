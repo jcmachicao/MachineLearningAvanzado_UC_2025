{
  "nbformat": 4,
  "nbformat_minor": 0,
  "metadata": {
    "colab": {
      "provenance": [],
      "authorship_tag": "ABX9TyNqcbBlEvgfdnm5o3gYI5V0",
      "include_colab_link": true
    },
    "kernelspec": {
      "name": "python3",
      "display_name": "Python 3"
    },
    "language_info": {
      "name": "python"
    }
  },
  "cells": [
    {
      "cell_type": "markdown",
      "metadata": {
        "id": "view-in-github",
        "colab_type": "text"
      },
      "source": [
        "<a href=\"https://colab.research.google.com/github/jcmachicao/MachineLearningAvanzado_UC_2025/blob/main/logueo_neptune.ipynb\" target=\"_parent\"><img src=\"https://colab.research.google.com/assets/colab-badge.svg\" alt=\"Open In Colab\"/></a>"
      ]
    },
    {
      "cell_type": "code",
      "execution_count": null,
      "metadata": {
        "id": "JxZsUoYxQsTh"
      },
      "outputs": [],
      "source": [
        "import neptune\n",
        "\n",
        "run = neptune.init_run(\n",
        "    project=\"jcmachicao/MLAvanzado-UC\",\n",
        "    api_token=\"*****************************\",\n",
        ")  # your credentials\n",
        "\n",
        "params = {\"learning_rate\": 0.001, \"optimizer\": \"Adam\"}\n",
        "run[\"parameters\"] = params\n",
        "\n",
        "for epoch in range(10):\n",
        "    run[\"train/loss\"].append(0.9 ** epoch)\n",
        "\n",
        "run[\"eval/f1_score\"] = 0.66\n",
        "\n",
        "run.stop()"
      ]
    }
  ]
}